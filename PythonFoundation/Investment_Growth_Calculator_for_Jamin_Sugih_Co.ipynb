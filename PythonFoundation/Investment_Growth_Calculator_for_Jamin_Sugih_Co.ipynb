{
  "cells": [
    {
      "cell_type": "markdown",
      "metadata": {
        "id": "_mc4Cna79skm"
      },
      "source": [
        "Perusahaan Investasi Jamin-Sugih Co kami memberikan penawaran investasi terbaik dengan pembagian keuntungan tetap sebesar 25% setiap tahun.\n",
        "\n",
        "Buatlah program Python yang dapat menerima input dari pengguna dalam bentuk:\n",
        "Modal Investasi (bilangan bulat antara 0-1.000.000.000)\n",
        "Jangka Waktu Investasi (bilangan bulat antara 1-25 dalam tahun)\n",
        "Selain itu, program akan menampilkan error message bahwa modal atau tenure tidak sesuai ketentuan.\n",
        "\n",
        "Program akan menampilkan informasi akumulasi investasi setiap tahun, menggunakan iterasi untuk setiap tahun.\n"
      ]
    },
    {
      "cell_type": "code",
      "execution_count": 4,
      "metadata": {
        "colab": {
          "base_uri": "https://localhost:8080/"
        },
        "id": "Ht4pWXso9ulc",
        "outputId": "a75963da-73e9-4bca-8b21-ec5a6de32a90"
      },
      "outputs": [
        {
          "name": "stdout",
          "output_type": "stream",
          "text": [
            "\n",
            "Initial Investment Amount: Rp 500,000.00\n",
            "\n",
            "Annual Investment Accumulation:\n",
            "Year 1: Total Investment Rp 625,000.00\n",
            "Year 2: Total Investment Rp 781,250.00\n",
            "Year 3: Total Investment Rp 976,562.50\n",
            "Year 4: Total Investment Rp 1,220,703.12\n",
            "Year 5: Total Investment Rp 1,525,878.91\n"
          ]
        }
      ],
      "source": [
        "def investment_program():\n",
        "    try:\n",
        "        # Input modal investasi\n",
        "        modal_investasi = int(input(\"Enter Investment Capital (0 - 1,000,000,000 Rupiah): \"))\n",
        "        if modal_investasi <= 0 or modal_investasi > 1000000000:\n",
        "            raise ValueError(\"Investment Capital should be between 1 and 1,000,000,000 Rupiah\")\n",
        "\n",
        "        # Input jangka waktu investasi\n",
        "        jangka_waktu = int(input(\"Enter Investment Tenure (1 - 25 years): \"))\n",
        "        if jangka_waktu < 1 or jangka_waktu > 25:\n",
        "            raise ValueError(\"Investment Tenure should be between 1 and 25 years\")\n",
        "\n",
        "        # Print initial investment amount\n",
        "        print(f\"\\nInitial Investment Amount: Rp {modal_investasi:,.2f}\\n\")\n",
        "\n",
        "        # Calculate and display annual investment accumulation\n",
        "        print(\"Annual Investment Accumulation:\")\n",
        "        for year in range(1, jangka_waktu + 1):\n",
        "            total_investment = modal_investasi * 1.25  # 25% fixed annual return\n",
        "            print(f\"Year {year}: Total Investment Rp {total_investment:,.2f}\")\n",
        "            modal_investasi = total_investment\n",
        "\n",
        "    except ValueError as ve:\n",
        "        print(f\"Error: {ve}\")\n",
        "\n",
        "if __name__ == \"__main__\":\n",
        "    investment_program()"
      ]
    },
    {
      "cell_type": "code",
      "execution_count": null,
      "metadata": {
        "id": "J6Af9Og897Dv"
      },
      "outputs": [],
      "source": []
    }
  ],
  "metadata": {
    "colab": {
      "provenance": []
    },
    "kernelspec": {
      "display_name": "Python 3",
      "name": "python3"
    },
    "language_info": {
      "codemirror_mode": {
        "name": "ipython",
        "version": 3
      },
      "file_extension": ".py",
      "mimetype": "text/x-python",
      "name": "python",
      "nbconvert_exporter": "python",
      "pygments_lexer": "ipython3",
      "version": "3.11.9"
    }
  },
  "nbformat": 4,
  "nbformat_minor": 0
}
