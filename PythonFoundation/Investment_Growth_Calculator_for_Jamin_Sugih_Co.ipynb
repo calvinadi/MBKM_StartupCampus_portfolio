{
  "nbformat": 4,
  "nbformat_minor": 0,
  "metadata": {
    "colab": {
      "provenance": []
    },
    "kernelspec": {
      "name": "python3",
      "display_name": "Python 3"
    },
    "language_info": {
      "name": "python"
    }
  },
  "cells": [
    {
      "cell_type": "markdown",
      "source": [
        "Perusahaan Investasi Jamin-Sugih Co kami memberikan penawaran investasi terbaik dengan pembagian keuntungan tetap sebesar 25% setiap tahun.\n",
        "\n",
        "Buatlah program Python yang dapat menerima input dari pengguna dalam bentuk:\n",
        "Modal Investasi (bilangan bulat antara 0-1.000.000.000)\n",
        "Jangka Waktu Investasi (bilangan bulat antara 1-25 dalam tahun)\n",
        "Selain itu, program akan menampilkan error message bahwa modal atau tenure tidak sesuai ketentuan.\n",
        "\n",
        "Program akan menampilkan informasi akumulasi investasi setiap tahun, menggunakan iterasi untuk setiap tahun.\n"
      ],
      "metadata": {
        "id": "_mc4Cna79skm"
      }
    },
    {
      "cell_type": "code",
      "source": [
        "#Input money capital dan tenure\n",
        "modal_investasi = int(input(\"Money Capital: \"))\n",
        "jangka_waktu = int(input(\"Tenure (years): \"))\n",
        "\n",
        "#Conditional loop\n",
        "for x in range (1,jangka_waktu + 1):\n",
        "  if x == jangka_waktu + 1:\n",
        "    break\n",
        "  elif modal_investasi <= 1000000000 and jangka_waktu <= 25:\n",
        "    total_investment = (0.25 * modal_investasi) + modal_investasi\n",
        "    print(\"Year \", x, \", your total investment: \", total_investment)\n",
        "    modal_investasi = total_investment\n",
        "  else:\n",
        "    print(\"Modal atau tenure tidak sesuai ketentuan.\")"
      ],
      "metadata": {
        "colab": {
          "base_uri": "https://localhost:8080/"
        },
        "id": "Ht4pWXso9ulc",
        "outputId": "a75963da-73e9-4bca-8b21-ec5a6de32a90"
      },
      "execution_count": 1,
      "outputs": [
        {
          "output_type": "stream",
          "name": "stdout",
          "text": [
            "Money Capital: 1000000\n",
            "Tenure (years): 5\n",
            "Year  1 , your total investment:  1250000.0\n",
            "Year  2 , your total investment:  1562500.0\n",
            "Year  3 , your total investment:  1953125.0\n",
            "Year  4 , your total investment:  2441406.25\n",
            "Year  5 , your total investment:  3051757.8125\n"
          ]
        }
      ]
    },
    {
      "cell_type": "code",
      "source": [],
      "metadata": {
        "id": "J6Af9Og897Dv"
      },
      "execution_count": null,
      "outputs": []
    }
  ]
}